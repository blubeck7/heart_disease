{
 "cells": [
  {
   "cell_type": "code",
   "execution_count": 1,
   "metadata": {
    "collapsed": true
   },
   "outputs": [],
   "source": [
    "import pandas as pd\n",
    "import numpy as np\n",
    "import matplotlib.pyplot as plt"
   ]
  },
  {
   "cell_type": "markdown",
   "metadata": {},
   "source": [
    "# Read in and clean data"
   ]
  },
  {
   "cell_type": "code",
   "execution_count": null,
   "metadata": {
    "collapsed": false
   },
   "outputs": [],
   "source": [
    "N: Column: Description\n",
    "\n",
    "1: AGE: age in years\n",
    "2: SEX: sex (1 = male; 0 = female)\n",
    "3: CP: chest pain type\n",
    "    -- Value 1: typical angina\n",
    "    -- Value 2: atypical angina\n",
    "    -- Value 3: non-anginal pain\n",
    "    -- Value 4: asymptomatic\n",
    "4: TRESTBPS: resting blood pressure (in mm Hg on admission to the hospital)\n",
    "5: CHOL: serum cholestoral in mg/dl\n",
    "6: FBS: (fasting blood sugar > 120 mg/dl)  (1 = true; 0 = false)\n",
    "7: RESTECG: resting electrocardiographic results\n",
    "    -- Value 0: normal\n",
    "    -- Value 1: having ST-T wave abnormality (T wave inversions and/or ST elevation or depression of > 0.05 mV)\n",
    "    -- Value 2: showing probable or definite left ventricular hypertrophy by Estes' criteria\n",
    "8: THALACH: maximum heart rate achieved\n",
    "9: EXANG: exercise induced angina (1 = yes; 0 = no)\n",
    "10: OLDPEAK = ST depression induced by exercise relative to rest\n",
    "11: SLOPE: the slope of the peak exercise ST segment\n",
    "    -- Value 1: upsloping\n",
    "    -- Value 2: flat\n",
    "    -- Value 3: downsloping\n",
    "12: CA: number of major vessels (0-3) colored by flourosopy\n",
    "13: THAL: 3 = normal; 6 = fixed defect; 7 = reversable defect\n",
    "14: NUM: diagnosis of heart disease (angiographic disease status)\n",
    "    -- Value 0: < 50% diameter narrowing\n",
    "    -- Value 1,2,3,4: > 50% diameter narrowing\n",
    "    presence (values 1,2,3,4) absence (value 0)"
   ]
  },
  {
   "cell_type": "code",
   "execution_count": 2,
   "metadata": {
    "collapsed": false
   },
   "outputs": [
    {
     "name": "stdout",
     "output_type": "stream",
     "text": [
      "[[63.0 1.0 1.0 ..., '0.0' '6.0' 0]\n",
      " [67.0 1.0 4.0 ..., '3.0' '3.0' 2]\n",
      " [67.0 1.0 4.0 ..., '2.0' '7.0' 1]\n",
      " ..., \n",
      " [57.0 1.0 4.0 ..., '1.0' '7.0' 3]\n",
      " [57.0 0.0 2.0 ..., '1.0' '3.0' 1]\n",
      " [38.0 1.0 3.0 ..., '?' '3.0' 0]]\n"
     ]
    }
   ],
   "source": [
    "col_names = [\"AGE\", \"GENDER\", \"CP\", \"TRESTBPS\", \"CHOL\", \"FBS\", \"RESTECG\", \"THALACH\", \"EXANG\", \"OLDPEAK\", \"SLOPE\", \"CA\", \"THAL\", \"NUM\"]\n",
    "col_types = {\"AGE\": np.float_, \"GENDER\": np.int_ , \"CP\": np.int_, \"TRESTBPS\": np.float_, \"CHOL\": np.float_,\n",
    "             \"FBS\": np.int_, \"RESTECG\": np.int_, \"THALACH\": np.float_, \"EXANG\": np.int_, \"OLDPEAK\": np.float_,\n",
    "             \"SLOPE\": np.int_, \"CA\": np.int_, \"THAL\": np.int_, \"NUM\": np.int_}\n",
    "health_data = pd.read_csv(\"Data/processed.cleveland.data\", names = col_names)\n",
    "print(health_data.values)"
   ]
  },
  {
   "cell_type": "code",
   "execution_count": 3,
   "metadata": {
    "collapsed": false
   },
   "outputs": [
    {
     "name": "stdout",
     "output_type": "stream",
     "text": [
      "AGE: float64\n",
      "GENDER: float64\n",
      "CP: float64\n",
      "TRESTBPS: float64\n",
      "CHOL: float64\n",
      "FBS: float64\n",
      "RESTECG: float64\n",
      "THALACH: float64\n",
      "EXANG: float64\n",
      "OLDPEAK: float64\n",
      "SLOPE: float64\n",
      "CA: object\n",
      "THAL: object\n",
      "NUM: int64\n"
     ]
    }
   ],
   "source": [
    "for name in col_names:\n",
    "    data_type = col_types[name]\n",
    "    print(name+\":\", health_data[name].dtype)\n",
    "    "
   ]
  },
  {
   "cell_type": "code",
   "execution_count": 4,
   "metadata": {
    "collapsed": false
   },
   "outputs": [
    {
     "name": "stdout",
     "output_type": "stream",
     "text": [
      "CA\n",
      "0.0    176\n",
      "1.0     65\n",
      "2.0     38\n",
      "3.0     20\n",
      "?        4\n",
      "Name: CA, dtype: int64\n",
      "THAL\n",
      "3.0    166\n",
      "7.0    117\n",
      "6.0     18\n",
      "?        2\n",
      "Name: THAL, dtype: int64\n"
     ]
    }
   ],
   "source": [
    "print(\"CA\")\n",
    "print(health_data.CA.value_counts())\n",
    "print(\"THAL\")\n",
    "print(health_data.THAL.value_counts())"
   ]
  },
  {
   "cell_type": "code",
   "execution_count": 5,
   "metadata": {
    "collapsed": false
   },
   "outputs": [],
   "source": [
    "health_data.loc[health_data.CA == \"?\", \"CA\"] = \"-1\""
   ]
  },
  {
   "cell_type": "code",
   "execution_count": 6,
   "metadata": {
    "collapsed": false
   },
   "outputs": [],
   "source": [
    "health_data.loc[health_data.THAL == \"?\", \"THAL\"] = \"-1\""
   ]
  },
  {
   "cell_type": "code",
   "execution_count": 7,
   "metadata": {
    "collapsed": false
   },
   "outputs": [
    {
     "name": "stdout",
     "output_type": "stream",
     "text": [
      "CA\n",
      "0.0    176\n",
      "1.0     65\n",
      "2.0     38\n",
      "3.0     20\n",
      "-1       4\n",
      "Name: CA, dtype: int64\n",
      "THAL\n",
      "3.0    166\n",
      "7.0    117\n",
      "6.0     18\n",
      "-1       2\n",
      "Name: THAL, dtype: int64\n"
     ]
    }
   ],
   "source": [
    "print(\"CA\")\n",
    "print(health_data.CA.value_counts())\n",
    "print(\"THAL\")\n",
    "print(health_data.THAL.value_counts())"
   ]
  },
  {
   "cell_type": "code",
   "execution_count": 8,
   "metadata": {
    "collapsed": false
   },
   "outputs": [
    {
     "data": {
      "text/plain": [
       "array([[63.0, 1.0, 1.0, ..., '0.0', '6.0', 0],\n",
       "       [67.0, 1.0, 4.0, ..., '3.0', '3.0', 2],\n",
       "       [67.0, 1.0, 4.0, ..., '2.0', '7.0', 1],\n",
       "       ..., \n",
       "       [57.0, 1.0, 4.0, ..., '1.0', '7.0', 3],\n",
       "       [57.0, 0.0, 2.0, ..., '1.0', '3.0', 1],\n",
       "       [38.0, 1.0, 3.0, ..., '-1', '3.0', 0]], dtype=object)"
      ]
     },
     "execution_count": 8,
     "metadata": {},
     "output_type": "execute_result"
    }
   ],
   "source": [
    "health_data.values"
   ]
  },
  {
   "cell_type": "code",
   "execution_count": 9,
   "metadata": {
    "collapsed": false
   },
   "outputs": [
    {
     "name": "stdout",
     "output_type": "stream",
     "text": [
      "AGE: float64\n",
      "GENDER: float64\n",
      "CP: float64\n",
      "TRESTBPS: float64\n",
      "CHOL: float64\n",
      "FBS: float64\n",
      "RESTECG: float64\n",
      "THALACH: float64\n",
      "EXANG: float64\n",
      "OLDPEAK: float64\n",
      "SLOPE: float64\n",
      "CA: object\n",
      "THAL: object\n",
      "NUM: int64\n"
     ]
    }
   ],
   "source": [
    "for name in col_names:\n",
    "    data_type = col_types[name]\n",
    "    print(name+\":\", health_data[name].dtype)"
   ]
  },
  {
   "cell_type": "code",
   "execution_count": 10,
   "metadata": {
    "collapsed": false
   },
   "outputs": [
    {
     "data": {
      "text/plain": [
       "AGE         float64\n",
       "GENDER        int64\n",
       "CP            int64\n",
       "TRESTBPS    float64\n",
       "CHOL        float64\n",
       "FBS           int64\n",
       "RESTECG       int64\n",
       "THALACH     float64\n",
       "EXANG         int64\n",
       "OLDPEAK     float64\n",
       "SLOPE         int64\n",
       "CA            int64\n",
       "THAL          int64\n",
       "NUM           int64\n",
       "dtype: object"
      ]
     },
     "execution_count": 10,
     "metadata": {},
     "output_type": "execute_result"
    }
   ],
   "source": [
    "health_data.CA = health_data.CA.astype(np.float_)\n",
    "health_data.THAL = health_data.THAL.astype(np.float_)\n",
    "health_data = health_data.astype(col_types)\n",
    "health_data.dtypes"
   ]
  },
  {
   "cell_type": "code",
   "execution_count": 11,
   "metadata": {
    "collapsed": false
   },
   "outputs": [
    {
     "data": {
      "text/plain": [
       "array([[ 63.,   1.,   1., ...,   0.,   6.,   0.],\n",
       "       [ 67.,   1.,   4., ...,   3.,   3.,   2.],\n",
       "       [ 67.,   1.,   4., ...,   2.,   7.,   1.],\n",
       "       ..., \n",
       "       [ 57.,   1.,   4., ...,   1.,   7.,   3.],\n",
       "       [ 57.,   0.,   2., ...,   1.,   3.,   1.],\n",
       "       [ 38.,   1.,   3., ...,  -1.,   3.,   0.]])"
      ]
     },
     "execution_count": 11,
     "metadata": {},
     "output_type": "execute_result"
    }
   ],
   "source": [
    "health_data.values"
   ]
  },
  {
   "cell_type": "markdown",
   "metadata": {
    "collapsed": false
   },
   "source": [
    "# Exploratory Data Analysis\n",
    "\n",
    "For integer variables, create frequency tables.\n",
    "\n",
    "For floating point variables, look at max, min, range, histogram, correlation plot "
   ]
  },
  {
   "cell_type": "code",
   "execution_count": 12,
   "metadata": {
    "collapsed": false
   },
   "outputs": [
    {
     "name": "stdout",
     "output_type": "stream",
     "text": [
      "1    206\n",
      "0     97\n",
      "Name: GENDER, dtype: int64\n",
      "4    144\n",
      "3     86\n",
      "2     50\n",
      "1     23\n",
      "Name: CP, dtype: int64\n",
      "0    258\n",
      "1     45\n",
      "Name: FBS, dtype: int64\n",
      "0    151\n",
      "2    148\n",
      "1      4\n",
      "Name: RESTECG, dtype: int64\n",
      "0    204\n",
      "1     99\n",
      "Name: EXANG, dtype: int64\n",
      "1    142\n",
      "2    140\n",
      "3     21\n",
      "Name: SLOPE, dtype: int64\n",
      " 0    176\n",
      " 1     65\n",
      " 2     38\n",
      " 3     20\n",
      "-1      4\n",
      "Name: CA, dtype: int64\n",
      " 3    166\n",
      " 7    117\n",
      " 6     18\n",
      "-1      2\n",
      "Name: THAL, dtype: int64\n",
      "0    164\n",
      "1     55\n",
      "2     36\n",
      "3     35\n",
      "4     13\n",
      "Name: NUM, dtype: int64\n"
     ]
    }
   ],
   "source": [
    "for name in health_data.columns:\n",
    "    if health_data[name].dtype == np.int_:\n",
    "        print(health_data[name].value_counts())"
   ]
  },
  {
   "cell_type": "code",
   "execution_count": 13,
   "metadata": {
    "collapsed": false
   },
   "outputs": [
    {
     "data": {
      "text/html": [
       "<div>\n",
       "<table border=\"1\" class=\"dataframe\">\n",
       "  <thead>\n",
       "    <tr style=\"text-align: right;\">\n",
       "      <th></th>\n",
       "      <th>AGE</th>\n",
       "      <th>GENDER</th>\n",
       "      <th>CP</th>\n",
       "      <th>TRESTBPS</th>\n",
       "      <th>CHOL</th>\n",
       "      <th>FBS</th>\n",
       "      <th>RESTECG</th>\n",
       "      <th>THALACH</th>\n",
       "      <th>EXANG</th>\n",
       "      <th>OLDPEAK</th>\n",
       "      <th>SLOPE</th>\n",
       "      <th>CA</th>\n",
       "      <th>THAL</th>\n",
       "      <th>NUM</th>\n",
       "    </tr>\n",
       "  </thead>\n",
       "  <tbody>\n",
       "    <tr>\n",
       "      <th>count</th>\n",
       "      <td>303.000000</td>\n",
       "      <td>303.000000</td>\n",
       "      <td>303.000000</td>\n",
       "      <td>303.000000</td>\n",
       "      <td>303.000000</td>\n",
       "      <td>303.000000</td>\n",
       "      <td>303.000000</td>\n",
       "      <td>303.000000</td>\n",
       "      <td>303.000000</td>\n",
       "      <td>303.000000</td>\n",
       "      <td>303.000000</td>\n",
       "      <td>303.000000</td>\n",
       "      <td>303.000000</td>\n",
       "      <td>303.000000</td>\n",
       "    </tr>\n",
       "    <tr>\n",
       "      <th>mean</th>\n",
       "      <td>54.438944</td>\n",
       "      <td>0.679868</td>\n",
       "      <td>3.158416</td>\n",
       "      <td>131.689769</td>\n",
       "      <td>246.693069</td>\n",
       "      <td>0.148515</td>\n",
       "      <td>0.990099</td>\n",
       "      <td>149.607261</td>\n",
       "      <td>0.326733</td>\n",
       "      <td>1.039604</td>\n",
       "      <td>1.600660</td>\n",
       "      <td>0.650165</td>\n",
       "      <td>4.696370</td>\n",
       "      <td>0.937294</td>\n",
       "    </tr>\n",
       "    <tr>\n",
       "      <th>std</th>\n",
       "      <td>9.038662</td>\n",
       "      <td>0.467299</td>\n",
       "      <td>0.960126</td>\n",
       "      <td>17.599748</td>\n",
       "      <td>51.776918</td>\n",
       "      <td>0.356198</td>\n",
       "      <td>0.994971</td>\n",
       "      <td>22.875003</td>\n",
       "      <td>0.469794</td>\n",
       "      <td>1.161075</td>\n",
       "      <td>0.616226</td>\n",
       "      <td>0.950632</td>\n",
       "      <td>1.988432</td>\n",
       "      <td>1.228536</td>\n",
       "    </tr>\n",
       "    <tr>\n",
       "      <th>min</th>\n",
       "      <td>29.000000</td>\n",
       "      <td>0.000000</td>\n",
       "      <td>1.000000</td>\n",
       "      <td>94.000000</td>\n",
       "      <td>126.000000</td>\n",
       "      <td>0.000000</td>\n",
       "      <td>0.000000</td>\n",
       "      <td>71.000000</td>\n",
       "      <td>0.000000</td>\n",
       "      <td>0.000000</td>\n",
       "      <td>1.000000</td>\n",
       "      <td>-1.000000</td>\n",
       "      <td>-1.000000</td>\n",
       "      <td>0.000000</td>\n",
       "    </tr>\n",
       "    <tr>\n",
       "      <th>25%</th>\n",
       "      <td>48.000000</td>\n",
       "      <td>0.000000</td>\n",
       "      <td>3.000000</td>\n",
       "      <td>120.000000</td>\n",
       "      <td>211.000000</td>\n",
       "      <td>0.000000</td>\n",
       "      <td>0.000000</td>\n",
       "      <td>133.500000</td>\n",
       "      <td>0.000000</td>\n",
       "      <td>0.000000</td>\n",
       "      <td>1.000000</td>\n",
       "      <td>0.000000</td>\n",
       "      <td>3.000000</td>\n",
       "      <td>0.000000</td>\n",
       "    </tr>\n",
       "    <tr>\n",
       "      <th>50%</th>\n",
       "      <td>56.000000</td>\n",
       "      <td>1.000000</td>\n",
       "      <td>3.000000</td>\n",
       "      <td>130.000000</td>\n",
       "      <td>241.000000</td>\n",
       "      <td>0.000000</td>\n",
       "      <td>1.000000</td>\n",
       "      <td>153.000000</td>\n",
       "      <td>0.000000</td>\n",
       "      <td>0.800000</td>\n",
       "      <td>2.000000</td>\n",
       "      <td>0.000000</td>\n",
       "      <td>3.000000</td>\n",
       "      <td>0.000000</td>\n",
       "    </tr>\n",
       "    <tr>\n",
       "      <th>75%</th>\n",
       "      <td>61.000000</td>\n",
       "      <td>1.000000</td>\n",
       "      <td>4.000000</td>\n",
       "      <td>140.000000</td>\n",
       "      <td>275.000000</td>\n",
       "      <td>0.000000</td>\n",
       "      <td>2.000000</td>\n",
       "      <td>166.000000</td>\n",
       "      <td>1.000000</td>\n",
       "      <td>1.600000</td>\n",
       "      <td>2.000000</td>\n",
       "      <td>1.000000</td>\n",
       "      <td>7.000000</td>\n",
       "      <td>2.000000</td>\n",
       "    </tr>\n",
       "    <tr>\n",
       "      <th>max</th>\n",
       "      <td>77.000000</td>\n",
       "      <td>1.000000</td>\n",
       "      <td>4.000000</td>\n",
       "      <td>200.000000</td>\n",
       "      <td>564.000000</td>\n",
       "      <td>1.000000</td>\n",
       "      <td>2.000000</td>\n",
       "      <td>202.000000</td>\n",
       "      <td>1.000000</td>\n",
       "      <td>6.200000</td>\n",
       "      <td>3.000000</td>\n",
       "      <td>3.000000</td>\n",
       "      <td>7.000000</td>\n",
       "      <td>4.000000</td>\n",
       "    </tr>\n",
       "  </tbody>\n",
       "</table>\n",
       "</div>"
      ],
      "text/plain": [
       "              AGE      GENDER          CP    TRESTBPS        CHOL         FBS  \\\n",
       "count  303.000000  303.000000  303.000000  303.000000  303.000000  303.000000   \n",
       "mean    54.438944    0.679868    3.158416  131.689769  246.693069    0.148515   \n",
       "std      9.038662    0.467299    0.960126   17.599748   51.776918    0.356198   \n",
       "min     29.000000    0.000000    1.000000   94.000000  126.000000    0.000000   \n",
       "25%     48.000000    0.000000    3.000000  120.000000  211.000000    0.000000   \n",
       "50%     56.000000    1.000000    3.000000  130.000000  241.000000    0.000000   \n",
       "75%     61.000000    1.000000    4.000000  140.000000  275.000000    0.000000   \n",
       "max     77.000000    1.000000    4.000000  200.000000  564.000000    1.000000   \n",
       "\n",
       "          RESTECG     THALACH       EXANG     OLDPEAK       SLOPE          CA  \\\n",
       "count  303.000000  303.000000  303.000000  303.000000  303.000000  303.000000   \n",
       "mean     0.990099  149.607261    0.326733    1.039604    1.600660    0.650165   \n",
       "std      0.994971   22.875003    0.469794    1.161075    0.616226    0.950632   \n",
       "min      0.000000   71.000000    0.000000    0.000000    1.000000   -1.000000   \n",
       "25%      0.000000  133.500000    0.000000    0.000000    1.000000    0.000000   \n",
       "50%      1.000000  153.000000    0.000000    0.800000    2.000000    0.000000   \n",
       "75%      2.000000  166.000000    1.000000    1.600000    2.000000    1.000000   \n",
       "max      2.000000  202.000000    1.000000    6.200000    3.000000    3.000000   \n",
       "\n",
       "             THAL         NUM  \n",
       "count  303.000000  303.000000  \n",
       "mean     4.696370    0.937294  \n",
       "std      1.988432    1.228536  \n",
       "min     -1.000000    0.000000  \n",
       "25%      3.000000    0.000000  \n",
       "50%      3.000000    0.000000  \n",
       "75%      7.000000    2.000000  \n",
       "max      7.000000    4.000000  "
      ]
     },
     "execution_count": 13,
     "metadata": {},
     "output_type": "execute_result"
    }
   ],
   "source": [
    "health_data.describe()"
   ]
  },
  {
   "cell_type": "code",
   "execution_count": 14,
   "metadata": {
    "collapsed": false
   },
   "outputs": [
    {
     "data": {
      "image/png": "[encoded data removed]",
      "text/plain": [
       "<matplotlib.figure.Figure at 0x116177630>"
      ]
     },
     "metadata": {},
     "output_type": "display_data"
    }
   ],
   "source": [
    "#histogram\n",
    "fig, ax = plt.subplots()\n",
    "ax.hist(health_data[\"AGE\"].values)\n",
    "plt.show()"
   ]
  },
  {
   "cell_type": "code",
   "execution_count": null,
   "metadata": {
    "collapsed": false
   },
   "outputs": [],
   "source": []
  },
  {
   "cell_type": "code",
   "execution_count": null,
   "metadata": {
    "collapsed": true
   },
   "outputs": [],
   "source": []
  }
 ],
 "metadata": {
  "kernelspec": {
   "display_name": "Python 3",
   "language": "python",
   "name": "python3"
  },
  "language_info": {
   "codemirror_mode": {
    "name": "ipython",
    "version": 3
   },
   "file_extension": ".py",
   "mimetype": "text/x-python",
   "name": "python",
   "nbconvert_exporter": "python",
   "pygments_lexer": "ipython3",
   "version": "3.6.0"
  }
 },
 "nbformat": 4,
 "nbformat_minor": 2
}
