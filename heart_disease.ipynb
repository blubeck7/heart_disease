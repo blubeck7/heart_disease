{
 "cells": [
  {
   "cell_type": "code",
   "execution_count": 1,
   "metadata": {
    "collapsed": true
   },
   "outputs": [],
   "source": [
    "import pandas as pd\n",
    "import numpy as np\n",
    "import matplotlib.pyplot as plt"
   ]
  },
  {
   "cell_type": "markdown",
   "metadata": {},
   "source": [
    "N: Column: Description\n",
    "\n",
    "1: age: age in years\n",
    "2: sex: sex (1 = male; 0 = female)\n",
    "3: cp: chest pain type\n",
    "    -- Value 1: typical angina\n",
    "    -- Value 2: atypical angina\n",
    "    -- Value 3: non-anginal pain\n",
    "    -- Value 4: asymptomatic\n",
    "4: trestbps: resting blood pressure (in mm Hg on admission to the hospital)\n",
    "5: chol: serum cholestoral in mg/dl\n",
    "6: fbs: (fasting blood sugar > 120 mg/dl)  (1 = true; 0 = false)\n",
    "7: restecg: resting electrocardiographic results\n",
    "    -- Value 0: normal\n",
    "    -- Value 1: having ST-T wave abnormality (T wave inversions and/or ST elevation or depression of > 0.05 mV)\n",
    "    -- Value 2: showing probable or definite left ventricular hypertrophy by Estes' criteria\n",
    "8: thalach: maximum heart rate achieved\n",
    "9: exang: exercise induced angina (1 = yes; 0 = no)\n",
    "10: oldpeak = ST depression induced by exercise relative to rest\n",
    "11: slope: the slope of the peak exercise ST segment\n",
    "    -- Value 1: upsloping\n",
    "    -- Value 2: flat\n",
    "    -- Value 3: downsloping\n",
    "12: ca: number of major vessels (0-3) colored by flourosopy\n",
    "13: thal: 3 = normal; 6 = fixed defect; 7 = reversable defect\n",
    "14: num: diagnosis of heart disease (angiographic disease status)\n",
    "    -- Value 0: < 50% diameter narrowing\n",
    "    -- Value 1,2,3,4: > 50% diameter narrowing\n",
    "    presence (values 1,2,3,4) absence (value 0)"
   ]
  },
  {
   "cell_type": "code",
   "execution_count": 25,
   "metadata": {
    "collapsed": false
   },
   "outputs": [
    {
     "name": "stdout",
     "output_type": "stream",
     "text": [
      "[[63.0 1.0 1.0 ..., '0.0' '6.0' 0]\n",
      " [67.0 1.0 4.0 ..., '3.0' '3.0' 2]\n",
      " [67.0 1.0 4.0 ..., '2.0' '7.0' 1]\n",
      " ..., \n",
      " [57.0 1.0 4.0 ..., '1.0' '7.0' 3]\n",
      " [57.0 0.0 2.0 ..., '1.0' '3.0' 1]\n",
      " [38.0 1.0 3.0 ..., '?' '3.0' 0]]\n"
     ]
    }
   ],
   "source": [
    "col_names = [\"AGE\", \"GENDER\", \"CP\", \"TRESTBPS\", \"CHOL\", \"FBS\", \"RESTECG\", \"THALACH\", \"EXANG\", \"OLDPEAK\", \"SLOPE\", \"CA\", \"THAL\", \"NUM\"]\n",
    "col_types = {\"AGE\": np.int_, \"GENDER\": np.int_ , \"CP\": np.int_, \"TRESTBPS\": np.float_, \"CHOL\": np.float_,\n",
    "             \"FBS\": np.int_, \"RESTECG\": np.int_, \"THALACH\": np.float_, \"EXANG\": np.int_, \"OLDPEAK\": np.float_,\n",
    "             \"SLOPE\": np.int_, \"CA\": np.int_, \"THAL\": np.int_, \"NUM\": np.int_}\n",
    "health_data = pd.read_csv(\"Data/processed.cleveland.data\", names = col_names)\n",
    "print(health_data.values)"
   ]
  },
  {
   "cell_type": "code",
   "execution_count": 26,
   "metadata": {
    "collapsed": false
   },
   "outputs": [
    {
     "name": "stdout",
     "output_type": "stream",
     "text": [
      "AGE: float64\n",
      "GENDER: float64\n",
      "CP: float64\n",
      "TRESTBPS: float64\n",
      "CHOL: float64\n",
      "FBS: float64\n",
      "RESTECG: float64\n",
      "THALACH: float64\n",
      "EXANG: float64\n",
      "OLDPEAK: float64\n",
      "SLOPE: float64\n",
      "CA: object\n",
      "THAL: object\n",
      "NUM: int64\n"
     ]
    }
   ],
   "source": [
    "for name in col_names:\n",
    "    data_type = col_types[name]\n",
    "    print(name+\":\", health_data[name].dtype)\n",
    "    "
   ]
  },
  {
   "cell_type": "code",
   "execution_count": 27,
   "metadata": {
    "collapsed": false
   },
   "outputs": [
    {
     "name": "stdout",
     "output_type": "stream",
     "text": [
      "CA\n",
      "0.0    176\n",
      "1.0     65\n",
      "2.0     38\n",
      "3.0     20\n",
      "?        4\n",
      "Name: CA, dtype: int64\n",
      "THAL\n",
      "3.0    166\n",
      "7.0    117\n",
      "6.0     18\n",
      "?        2\n",
      "Name: THAL, dtype: int64\n"
     ]
    }
   ],
   "source": [
    "print(\"CA\")\n",
    "print(health_data.CA.value_counts())\n",
    "print(\"THAL\")\n",
    "print(health_data.THAL.value_counts())"
   ]
  },
  {
   "cell_type": "code",
   "execution_count": 29,
   "metadata": {
    "collapsed": false
   },
   "outputs": [],
   "source": [
    "health_data.loc[health_data.CA == \"?\", \"CA\"] = -1"
   ]
  },
  {
   "cell_type": "code",
   "execution_count": 33,
   "metadata": {
    "collapsed": false
   },
   "outputs": [],
   "source": [
    "health_data.loc[health_data.THAL == \"?\", \"THAL\"] = -1"
   ]
  },
  {
   "cell_type": "code",
   "execution_count": 34,
   "metadata": {
    "collapsed": false
   },
   "outputs": [
    {
     "name": "stdout",
     "output_type": "stream",
     "text": [
      "CA\n",
      "0.0    176\n",
      "1.0     65\n",
      "2.0     38\n",
      "3.0     20\n",
      "-1       4\n",
      "Name: CA, dtype: int64\n",
      "THAL\n",
      "3.0    166\n",
      "7.0    117\n",
      "6.0     18\n",
      "-1       2\n",
      "Name: THAL, dtype: int64\n"
     ]
    }
   ],
   "source": [
    "print(\"CA\")\n",
    "print(health_data.CA.value_counts())\n",
    "print(\"THAL\")\n",
    "print(health_data.THAL.value_counts())"
   ]
  },
  {
   "cell_type": "code",
   "execution_count": 36,
   "metadata": {
    "collapsed": false
   },
   "outputs": [
    {
     "data": {
      "text/plain": [
       "Index(['AGE', 'GENDER', 'CP', 'TRESTBPS', 'CHOL', 'FBS', 'RESTECG', 'THALACH',\n",
       "       'EXANG', 'OLDPEAK', 'SLOPE', 'CA', 'THAL', 'NUM'],\n",
       "      dtype='object')"
      ]
     },
     "execution_count": 36,
     "metadata": {},
     "output_type": "execute_result"
    }
   ],
   "source": [
    "health_data.columns"
   ]
  },
  {
   "cell_type": "code",
   "execution_count": null,
   "metadata": {
    "collapsed": false
   },
   "outputs": [],
   "source": [
    "dir(pd.DataFrame)"
   ]
  },
  {
   "cell_type": "code",
   "execution_count": 38,
   "metadata": {
    "collapsed": false
   },
   "outputs": [
    {
     "data": {
      "text/plain": [
       "array(['0.0', '3.0', '2.0', '0.0', '0.0', '0.0', '2.0', '0.0', '1.0',\n",
       "       '0.0', '0.0', '0.0', '1.0', '0.0', '0.0', '0.0', '0.0', '0.0',\n",
       "       '0.0', '0.0', '0.0', '0.0', '0.0', '2.0', '2.0', '0.0', '0.0',\n",
       "       '0.0', '0.0', '0.0', '2.0', '2.0', '0.0', '0.0', '0.0', '0.0',\n",
       "       '0.0', '1.0', '1.0', '0.0', '3.0', '0.0', '2.0', '0.0', '0.0',\n",
       "       '1.0', '0.0', '0.0', '1.0', '0.0', '1.0', '0.0', '1.0', '0.0',\n",
       "       '1.0', '1.0', '1.0', '0.0', '1.0', '1.0', '0.0', '0.0', '3.0',\n",
       "       '0.0', '1.0', '2.0', '0.0', '0.0', '0.0', '0.0', '0.0', '2.0',\n",
       "       '2.0', '2.0', '1.0', '0.0', '1.0', '1.0', '0.0', '0.0', '0.0',\n",
       "       '0.0', '0.0', '0.0', '0.0', '0.0', '0.0', '0.0', '0.0', '0.0',\n",
       "       '0.0', '3.0', '3.0', '0.0', '0.0', '1.0', '1.0', '2.0', '1.0',\n",
       "       '0.0', '0.0', '0.0', '1.0', '1.0', '3.0', '0.0', '1.0', '1.0',\n",
       "       '1.0', '0.0', '0.0', '1.0', '0.0', '0.0', '1.0', '0.0', '0.0',\n",
       "       '0.0', '3.0', '1.0', '2.0', '3.0', '0.0', '0.0', '1.0', '0.0',\n",
       "       '2.0', '1.0', '0.0', '0.0', '0.0', '1.0', '0.0', '0.0', '0.0',\n",
       "       '0.0', '0.0', '1.0', '0.0', '0.0', '0.0', '0.0', '0.0', '0.0',\n",
       "       '0.0', '0.0', '3.0', '0.0', '0.0', '1.0', '0.0', '0.0', '0.0',\n",
       "       '1.0', '1.0', '3.0', '0.0', '2.0', '2.0', '1.0', '0.0', '3.0',\n",
       "       '0.0', '0.0', '2.0', '0.0', -1, '1.0', '0.0', '0.0', '1.0', '0.0',\n",
       "       '0.0', '0.0', '2.0', '1.0', '3.0', '1.0', '1.0', '3.0', '0.0',\n",
       "       '2.0', '2.0', '0.0', '0.0', '2.0', '0.0', '3.0', '1.0', '3.0',\n",
       "       '0.0', '3.0', -1, '3.0', '0.0', '2.0', '1.0', '0.0', '0.0', '0.0',\n",
       "       '0.0', '0.0', '1.0', '0.0', '0.0', '3.0', '2.0', '0.0', '0.0',\n",
       "       '0.0', '0.0', '0.0', '0.0', '2.0', '1.0', '0.0', '0.0', '0.0',\n",
       "       '2.0', '0.0', '0.0', '0.0', '0.0', '2.0', '2.0', '0.0', '0.0',\n",
       "       '1.0', '1.0', '1.0', '0.0', '0.0', '3.0', '1.0', '1.0', '2.0',\n",
       "       '0.0', '0.0', '0.0', '0.0', '0.0', '0.0', '0.0', '2.0', '0.0',\n",
       "       '0.0', '1.0', '1.0', '2.0', '0.0', '0.0', '1.0', '1.0', '0.0',\n",
       "       '0.0', '0.0', '2.0', '0.0', '0.0', '0.0', '1.0', '2.0', '0.0',\n",
       "       '0.0', '1.0', '0.0', '0.0', '1.0', '0.0', '0.0', '1.0', '0.0',\n",
       "       '2.0', '0.0', '2.0', '0.0', '1.0', '0.0', '1.0', '0.0', '1.0',\n",
       "       '0.0', '1.0', '0.0', '1.0', '3.0', '2.0', -1, '0.0', '0.0', '0.0',\n",
       "       '0.0', '0.0', '2.0', '0.0', '0.0', '2.0', '0.0', '0.0', '2.0',\n",
       "       '1.0', '1.0', -1], dtype=object)"
      ]
     },
     "execution_count": 38,
     "metadata": {},
     "output_type": "execute_result"
    }
   ],
   "source": [
    "health_data.CA.values"
   ]
  },
  {
   "cell_type": "code",
   "execution_count": null,
   "metadata": {
    "collapsed": true
   },
   "outputs": [],
   "source": []
  }
 ],
 "metadata": {
  "kernelspec": {
   "display_name": "Python 3",
   "language": "python",
   "name": "python3"
  },
  "language_info": {
   "codemirror_mode": {
    "name": "ipython",
    "version": 3
   },
   "file_extension": ".py",
   "mimetype": "text/x-python",
   "name": "python",
   "nbconvert_exporter": "python",
   "pygments_lexer": "ipython3",
   "version": "3.6.0"
  }
 },
 "nbformat": 4,
 "nbformat_minor": 2
}
