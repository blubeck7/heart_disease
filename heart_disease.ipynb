{
 "cells": [
  {
   "cell_type": "markdown",
   "metadata": {},
   "source": [
    "## Import libraries"
   ]
  },
  {
   "cell_type": "code",
   "execution_count": 2,
   "metadata": {
    "collapsed": true
   },
   "outputs": [],
   "source": [
    "import pandas as pd\n",
    "import numpy as np\n",
    "import matplotlib.pyplot as plt\n",
    "import sklearn as skl\n",
    "import seaborn as sns"
   ]
  },
  {
   "cell_type": "markdown",
   "metadata": {},
   "source": [
    "## Description of Data Fields per Documentation Accompanying the Data"
   ]
  },
  {
   "cell_type": "code",
   "execution_count": null,
   "metadata": {
    "collapsed": true
   },
   "outputs": [],
   "source": [
    "N: Column: Description\n",
    "\n",
    "1: AGE: age in years\n",
    "2: GENDER: gender (1 = male; 0 = female)\n",
    "3: CP: chest pain type\n",
    "    -- Value 1: typical angina\n",
    "    -- Value 2: atypical angina\n",
    "    -- Value 3: non-anginal pain\n",
    "    -- Value 4: asymptomatic\n",
    "4: TRESTBPS: resting blood pressure (in mm Hg on admission to the hospital)\n",
    "5: CHOL: serum cholestoral in mg/dl\n",
    "6: FBS: (fasting blood sugar > 120 mg/dl)  (1 = true; 0 = false)\n",
    "7: RESTECG: resting electrocardiographic results\n",
    "    -- Value 0: normal\n",
    "    -- Value 1: having ST-T wave abnormality (T wave inversions and/or ST elevation or depression of > 0.05 mV)\n",
    "    -- Value 2: showing probable or definite left ventricular hypertrophy by Estes' criteria\n",
    "8: THALACH: maximum heart rate achieved\n",
    "9: EXANG: exercise induced angina (1 = yes; 0 = no)\n",
    "10: OLDPEAK = ST depression induced by exercise relative to rest\n",
    "11: SLOPE: the slope of the peak exercise ST segment\n",
    "    -- Value 1: upsloping\n",
    "    -- Value 2: flat\n",
    "    -- Value 3: downsloping\n",
    "12: CA: number of major vessels (0-3) colored by flourosopy\n",
    "13: THAL: 3 = normal; 6 = fixed defect; 7 = reversable defect\n",
    "14: NUM: diagnosis of heart disease (angiographic disease status)\n",
    "    -- Value 0: < 50% diameter narrowing\n",
    "    -- Value 1,2,3,4: > 50% diameter narrowing\n",
    "    presence (values 1,2,3,4) absence (value 0)"
   ]
  },
  {
   "cell_type": "code",
   "execution_count": null,
   "metadata": {
    "collapsed": true
   },
   "outputs": [],
   "source": [
    "#Create a dictionary of value and label for each data field\n",
    "age_dict = {\"AGE\":\"Age\"}\n",
    "gender_dict = {\"GENDER\":\"Gender\", 0:\"female\", 1:\"male\"}\n",
    "cp_dict = {\"CP\":\"Chest Pain\", 1:\"typical\", 2:\"atypical\", 3:\"Non-anginal\", 4:\"Asymptomatic\"}\n",
    "trestbps_dict = {\"TESTBPS\":\"Resting Blood Pressure (mm Hg)\"}\n",
    "chol_dict = {\"CHOL\":\"Serum Cholestoral (mg/dl)\"}\n",
    "fbs_dict = {\"FBS\":\"Fasting Blood Sugar\", 0:\"<=120 (mg/dl)\", 1:\">120 (mg/dl)\"}\n",
    "restecg_dict = {\"RESTECG\":\"Resting ECG Results\",0:\"normal\",1:\"ST-T Wave Abnor\",2:\"Estes\"}\n",
    "thalach_dict = {\"THALACH\":\"max heart rate\"}\n",
    "exang_dict = {\"EXANG\":\"Exercise Induced Angina\", 0:\"no\", 1:\"yes\"}\n",
    "oldpeak_dict = {\"OLDPEAK\":\"ST Depression Induced by \"}"
   ]
  },
  {
   "cell_type": "markdown",
   "metadata": {},
   "source": [
    "## Read in and assign data types based on descriptions"
   ]
  },
  {
   "cell_type": "code",
   "execution_count": 3,
   "metadata": {
    "collapsed": false
   },
   "outputs": [
    {
     "name": "stdout",
     "output_type": "stream",
     "text": [
      "[[63.0 1.0 1.0 ..., '0.0' '6.0' 0]\n",
      " [67.0 1.0 4.0 ..., '3.0' '3.0' 2]\n",
      " [67.0 1.0 4.0 ..., '2.0' '7.0' 1]\n",
      " ..., \n",
      " [57.0 1.0 4.0 ..., '1.0' '7.0' 3]\n",
      " [57.0 0.0 2.0 ..., '1.0' '3.0' 1]\n",
      " [38.0 1.0 3.0 ..., '?' '3.0' 0]]\n"
     ]
    }
   ],
   "source": [
    "col_names = [\"AGE\", \"GENDER\", \"CP\", \"TRESTBPS\", \"CHOL\", \"FBS\", \"RESTECG\", \"THALACH\", \"EXANG\", \"OLDPEAK\", \"SLOPE\", \"CA\", \"THAL\", \"NUM\"]\n",
    "col_types = {\"AGE\": np.float_, \"GENDER\": np.int_ , \"CP\": np.int_, \"TRESTBPS\": np.float_, \"CHOL\": np.float_,\n",
    "             \"FBS\": np.int_, \"RESTECG\": np.int_, \"THALACH\": np.float_, \"EXANG\": np.int_, \"OLDPEAK\": np.float_,\n",
    "             \"SLOPE\": np.int_, \"CA\": np.int_, \"THAL\": np.int_, \"NUM\": np.int_}\n",
    "health_data = pd.read_csv(\"Data/processed.cleveland.data\", names = col_names)\n",
    "print(health_data.values)"
   ]
  },
  {
   "cell_type": "code",
   "execution_count": 4,
   "metadata": {
    "collapsed": false
   },
   "outputs": [
    {
     "name": "stdout",
     "output_type": "stream",
     "text": [
      "AGE: float64\n",
      "GENDER: float64\n",
      "CP: float64\n",
      "TRESTBPS: float64\n",
      "CHOL: float64\n",
      "FBS: float64\n",
      "RESTECG: float64\n",
      "THALACH: float64\n",
      "EXANG: float64\n",
      "OLDPEAK: float64\n",
      "SLOPE: float64\n",
      "CA: object\n",
      "THAL: object\n",
      "NUM: int64\n"
     ]
    }
   ],
   "source": [
    "for name in col_names:\n",
    "    data_type = col_types[name]\n",
    "    print(name+\":\", health_data[name].dtype)\n",
    "    "
   ]
  },
  {
   "cell_type": "code",
   "execution_count": 4,
   "metadata": {
    "collapsed": false
   },
   "outputs": [
    {
     "name": "stdout",
     "output_type": "stream",
     "text": [
      "CA\n",
      "0.0    176\n",
      "1.0     65\n",
      "2.0     38\n",
      "3.0     20\n",
      "?        4\n",
      "Name: CA, dtype: int64\n",
      "THAL\n",
      "3.0    166\n",
      "7.0    117\n",
      "6.0     18\n",
      "?        2\n",
      "Name: THAL, dtype: int64\n"
     ]
    }
   ],
   "source": [
    "print(\"CA\")\n",
    "print(health_data.CA.value_counts())\n",
    "print(\"THAL\")\n",
    "print(health_data.THAL.value_counts())"
   ]
  },
  {
   "cell_type": "code",
   "execution_count": 5,
   "metadata": {
    "collapsed": false
   },
   "outputs": [],
   "source": [
    "health_data.loc[health_data.CA == \"?\", \"CA\"] = \"-1\""
   ]
  },
  {
   "cell_type": "code",
   "execution_count": 6,
   "metadata": {
    "collapsed": false
   },
   "outputs": [],
   "source": [
    "health_data.loc[health_data.THAL == \"?\", \"THAL\"] = \"-1\""
   ]
  },
  {
   "cell_type": "code",
   "execution_count": 7,
   "metadata": {
    "collapsed": false
   },
   "outputs": [
    {
     "name": "stdout",
     "output_type": "stream",
     "text": [
      "CA\n",
      "0.0    176\n",
      "1.0     65\n",
      "2.0     38\n",
      "3.0     20\n",
      "-1       4\n",
      "Name: CA, dtype: int64\n",
      "THAL\n",
      "3.0    166\n",
      "7.0    117\n",
      "6.0     18\n",
      "-1       2\n",
      "Name: THAL, dtype: int64\n"
     ]
    }
   ],
   "source": [
    "print(\"CA\")\n",
    "print(health_data.CA.value_counts())\n",
    "print(\"THAL\")\n",
    "print(health_data.THAL.value_counts())"
   ]
  },
  {
   "cell_type": "code",
   "execution_count": 8,
   "metadata": {
    "collapsed": false
   },
   "outputs": [
    {
     "data": {
      "text/plain": [
       "array([[63.0, 1.0, 1.0, ..., '0.0', '6.0', 0],\n",
       "       [67.0, 1.0, 4.0, ..., '3.0', '3.0', 2],\n",
       "       [67.0, 1.0, 4.0, ..., '2.0', '7.0', 1],\n",
       "       ..., \n",
       "       [57.0, 1.0, 4.0, ..., '1.0', '7.0', 3],\n",
       "       [57.0, 0.0, 2.0, ..., '1.0', '3.0', 1],\n",
       "       [38.0, 1.0, 3.0, ..., '-1', '3.0', 0]], dtype=object)"
      ]
     },
     "execution_count": 8,
     "metadata": {},
     "output_type": "execute_result"
    }
   ],
   "source": [
    "health_data.values"
   ]
  },
  {
   "cell_type": "code",
   "execution_count": 9,
   "metadata": {
    "collapsed": false
   },
   "outputs": [
    {
     "name": "stdout",
     "output_type": "stream",
     "text": [
      "AGE: float64\n",
      "GENDER: float64\n",
      "CP: float64\n",
      "TRESTBPS: float64\n",
      "CHOL: float64\n",
      "FBS: float64\n",
      "RESTECG: float64\n",
      "THALACH: float64\n",
      "EXANG: float64\n",
      "OLDPEAK: float64\n",
      "SLOPE: float64\n",
      "CA: object\n",
      "THAL: object\n",
      "NUM: int64\n"
     ]
    }
   ],
   "source": [
    "for name in col_names:\n",
    "    data_type = col_types[name]\n",
    "    print(name+\":\", health_data[name].dtype)"
   ]
  },
  {
   "cell_type": "code",
   "execution_count": 10,
   "metadata": {
    "collapsed": false
   },
   "outputs": [
    {
     "data": {
      "text/plain": [
       "AGE         float64\n",
       "GENDER        int64\n",
       "CP            int64\n",
       "TRESTBPS    float64\n",
       "CHOL        float64\n",
       "FBS           int64\n",
       "RESTECG       int64\n",
       "THALACH     float64\n",
       "EXANG         int64\n",
       "OLDPEAK     float64\n",
       "SLOPE         int64\n",
       "CA            int64\n",
       "THAL          int64\n",
       "NUM           int64\n",
       "dtype: object"
      ]
     },
     "execution_count": 10,
     "metadata": {},
     "output_type": "execute_result"
    }
   ],
   "source": [
    "health_data.CA = health_data.CA.astype(np.float_)\n",
    "health_data.THAL = health_data.THAL.astype(np.float_)\n",
    "health_data = health_data.astype(col_types)\n",
    "health_data.dtypes"
   ]
  },
  {
   "cell_type": "code",
   "execution_count": 11,
   "metadata": {
    "collapsed": false
   },
   "outputs": [
    {
     "data": {
      "text/plain": [
       "array([[ 63.,   1.,   1., ...,   0.,   6.,   0.],\n",
       "       [ 67.,   1.,   4., ...,   3.,   3.,   2.],\n",
       "       [ 67.,   1.,   4., ...,   2.,   7.,   1.],\n",
       "       ..., \n",
       "       [ 57.,   1.,   4., ...,   1.,   7.,   3.],\n",
       "       [ 57.,   0.,   2., ...,   1.,   3.,   1.],\n",
       "       [ 38.,   1.,   3., ...,  -1.,   3.,   0.]])"
      ]
     },
     "execution_count": 11,
     "metadata": {},
     "output_type": "execute_result"
    }
   ],
   "source": [
    "health_data.values"
   ]
  },
  {
   "cell_type": "markdown",
   "metadata": {},
   "source": [
    "## Exploratory Data Analysis\n",
    "\n",
    "In this part of the analysis, we\n",
    "1. assess the quality of the data by looking at the distributions for each variable and seeing if they agree with known facts\n",
    "2. explore the correlations among the data fields to help guide which variables to include in the model and how predictive of heart disease they might be."
   ]
  },
  {
   "cell_type": "markdown",
   "metadata": {},
   "source": [
    "### Distributions"
   ]
  },
  {
   "cell_type": "code",
   "execution_count": 12,
   "metadata": {
    "collapsed": false
   },
   "outputs": [
    {
     "name": "stdout",
     "output_type": "stream",
     "text": [
      "Field: \t Min: \t 10th: \t 25th: \t 50th: \t 75th: \t 90th: \t Max:\n",
      "AGE \t 29.00 \t 42.00 \t 48.00 \t 56.00 \t 61.00 \t 66.00 \t 77.00\n",
      "TRESTBPS 94.00 \t 110.00  120.00  130.00  140.00  152.00  200.00\n",
      "CHOL \t 126.00  188.80  211.00  241.00  275.00  308.80  564.00\n",
      "THALACH  71.00 \t 116.00  133.50  153.00  166.00  176.60  202.00\n",
      "OLDPEAK  0.00  \t 0.00   0.00   0.80   1.60   2.80   6.20 \n"
     ]
    }
   ],
   "source": [
    "## Check distributions of data fields\n",
    "#floating point variables - min, 25 quantile, 50, 75, max\n",
    "#integers frequency count\n",
    "#col_types = {\"AGE\": np.float_, \"GENDER\": np.int_ , \"CP\": np.int_, \"TRESTBPS\": np.float_, \"CHOL\": np.float_,\n",
    "#             \"FBS\": np.int_, \"RESTECG\": np.int_, \"THALACH\": np.float_, \"EXANG\": np.int_, \"OLDPEAK\": np.float_,\n",
    "#             \"SLOPE\": np.int_, \"CA\": np.int_, \"THAL\": np.int_, \"NUM\": np.int_}\n",
    "print(\"Field: \\t Min: \\t 10th: \\t 25th: \\t 50th: \\t 75th: \\t 90th: \\t Max:\")\n",
    "s1 = health_data.AGE\n",
    "q = s1.quantile([0.10, 0.25, 0.50, 0.75, 0.90])\n",
    "print(\"AGE \\t {0:<5.2f} \\t {1:<5.2f} \\t {2:<5.2f} \\t {3:<5.2f} \\t {4:<5.2f} \\t {5:<5.2f} \\t {6:<5.2f}\".format(\n",
    "    s1.min(), q.iloc[0], q.iloc[1], q.iloc[2], q.iloc[3], q.iloc[4], s1.max()))\n",
    "s1 = health_data.TRESTBPS\n",
    "q = s1.quantile([0.10, 0.25, 0.50, 0.75, 0.90])\n",
    "print(\"TRESTBPS {0:<5.2f} \\t {1:<5.2f}  {2:<5.2f}  {3:<5.2f}  {4:<5.2f}  {5:<5.2f}  {6:<5.2f}\".format(\n",
    "    s1.min(), q.iloc[0], q.iloc[1], q.iloc[2], q.iloc[3], q.iloc[4], s1.max()))\n",
    "s1 = health_data.CHOL\n",
    "q = s1.quantile([0.10, 0.25, 0.50, 0.75, 0.90])\n",
    "print(\"CHOL \\t {0:<5.2f}  {1:<5.2f}  {2:<5.2f}  {3:<5.2f}  {4:<5.2f}  {5:<5.2f}  {6:<5.2f}\".format(\n",
    "    s1.min(), q.iloc[0], q.iloc[1], q.iloc[2], q.iloc[3], q.iloc[4], s1.max()))\n",
    "s1 = health_data.THALACH\n",
    "q = s1.quantile([0.10, 0.25, 0.50, 0.75, 0.90])\n",
    "print(\"THALACH  {0:<5.2f} \\t {1:<5.2f}  {2:<5.2f}  {3:<5.2f}  {4:<5.2f}  {5:<5.2f}  {6:<5.2f}\".format(\n",
    "    s1.min(), q.iloc[0], q.iloc[1], q.iloc[2], q.iloc[3], q.iloc[4], s1.max()))\n",
    "s1 = health_data.OLDPEAK\n",
    "q = s1.quantile([0.10, 0.25, 0.50, 0.75, 0.90])\n",
    "print(\"OLDPEAK  {0:<5.2f} \\t {1:<5.2f}  {2:<5.2f}  {3:<5.2f}  {4:<5.2f}  {5:<5.2f}  {6:<5.2f}\".format(\n",
    "    s1.min(), q.iloc[0], q.iloc[1], q.iloc[2], q.iloc[3], q.iloc[4], s1.max()))"
   ]
  },
  {
   "cell_type": "code",
   "execution_count": 13,
   "metadata": {
    "collapsed": false
   },
   "outputs": [
    {
     "name": "stdout",
     "output_type": "stream",
     "text": [
      "1    206\n",
      "0     97\n",
      "Name: GENDER, dtype: int64\n",
      "4    144\n",
      "3     86\n",
      "2     50\n",
      "1     23\n",
      "Name: CP, dtype: int64\n",
      "0    258\n",
      "1     45\n",
      "Name: FBS, dtype: int64\n",
      "0    151\n",
      "2    148\n",
      "1      4\n",
      "Name: RESTECG, dtype: int64\n",
      "0    204\n",
      "1     99\n",
      "Name: EXANG, dtype: int64\n",
      "1    142\n",
      "2    140\n",
      "3     21\n",
      "Name: SLOPE, dtype: int64\n",
      " 0    176\n",
      " 1     65\n",
      " 2     38\n",
      " 3     20\n",
      "-1      4\n",
      "Name: CA, dtype: int64\n",
      " 3    166\n",
      " 7    117\n",
      " 6     18\n",
      "-1      2\n",
      "Name: THAL, dtype: int64\n",
      "0    164\n",
      "1     55\n",
      "2     36\n",
      "3     35\n",
      "4     13\n",
      "Name: NUM, dtype: int64\n"
     ]
    }
   ],
   "source": [
    "print(health_data.GENDER.value_counts())\n",
    "print(health_data.CP.value_counts())\n",
    "print(health_data.FBS.value_counts())\n",
    "print(health_data.RESTECG.value_counts())\n",
    "print(health_data.EXANG.value_counts())\n",
    "print(health_data.SLOPE.value_counts())\n",
    "print(health_data.CA.value_counts())\n",
    "print(health_data.THAL.value_counts())\n",
    "print(health_data.NUM.value_counts())"
   ]
  },
  {
   "cell_type": "code",
   "execution_count": 14,
   "metadata": {
    "collapsed": false
   },
   "outputs": [
    {
     "data": {
      "image/png": "[encoded data removed]",
      "text/plain": [
       "<matplotlib.figure.Figure at 0x10e48ce80>"
      ]
     },
     "metadata": {},
     "output_type": "display_data"
    }
   ],
   "source": [
    "fig, axes = plt.subplots(nrows = 3, ncols = 3)\n",
    "fig.set_size_inches(9, 11)\n",
    "\n",
    "#GENDER\n",
    "var =\"GENDER\"\n",
    "ind = health_data.loc[:,var].value_counts().index.values\n",
    "count = health_data.loc[:,var].value_counts().values\n",
    "axes[0,0].set_xticks(ind)\n",
    "axes[0,0].bar(ind, count)\n",
    "axes[0,0].set_title(\"Gender\\n(GENDER)\")\n",
    "axes[0,0].set_ylabel(\"count\")\n",
    "axes[0,0].set_xticklabels((\"male\",\"female\"))\n",
    "\n",
    "#CP\n",
    "var =\"CP\"\n",
    "ind = health_data.loc[:,var].value_counts().index.values\n",
    "count = health_data.loc[:,var].value_counts().values\n",
    "axes[0,1].set_xticks(ind)\n",
    "axes[0,1].bar(ind, count)\n",
    "axes[0,1].set_title(\"Chest Pain\\n(CP)\")\n",
    "axes[0,1].set_ylabel(\"count\")\n",
    "axes[0,1].set_xticklabels([4,3,2,1])\n",
    "\n",
    "#FBS\n",
    "#FBS: (fasting blood sugar > 120 mg/dl)  (1 = true; 0 = false)\n",
    "var =\"FBS\"\n",
    "ind = health_data.loc[:,var].value_counts().index.values\n",
    "count = health_data.loc[:,var].value_counts().values\n",
    "axes[0,2].set_xticks(ind)\n",
    "rect = axes[0,2].bar(ind, count)\n",
    "axes[0,2].set_title(\"Fasting Blood Sugar\\n(FBS)\")\n",
    "axes[0,2].set_ylabel(\"count\")\n",
    "axes[0,2].set_ylim(0, max(count) + 20)\n",
    "axes[0,2].set_xticklabels(ind)\n",
    "axes[0,2].text(ind[0]-rect[0].get_width()/2, count[0] + 5,\"<=120 (mg/dl)\")\n",
    "axes[0,2].text(ind[1]-rect[1].get_width()/2, count[1] + 5,\">120 (mg/dl)\")\n",
    "\n",
    "#RESTECG\n",
    "#    -- Value 0: normal\n",
    "#    -- Value 1: having ST-T wave abnormality (T wave inversions and/or ST elevation or depression of > 0.05 mV)\n",
    "#    -- Value 2: showing probable or definite left ventricular hypertrophy by Estes' criteria\n",
    "var =\"RESTECG\"\n",
    "ind = health_data.loc[:,var].value_counts().index.values\n",
    "count = health_data.loc[:,var].value_counts().values\n",
    "axes[1,0].set_xticks(ind)\n",
    "rect = axes[1,0].bar(ind, count)\n",
    "axes[1,0].set_title(\"Resting ECG\\n(RESTECG)\")\n",
    "axes[1,0].set_ylabel(\"count\")\n",
    "axes[1,0].set_ylim(0, max(count) + 10)\n",
    "axes[1,0].set_xticklabels(ind)\n",
    "axes[1,0].text(ind[0]-rect[0].get_width()/2, count[0] + 2,\"normal\")\n",
    "axes[1,0].text(ind[1]-rect[1].get_width()/2, count[1] + 2,\"Estes\")\n",
    "axes[1,0].text(ind[2]-rect[2].get_width()/2, count[2] + 2,\"ST-T\\nabnormal\")\n",
    "\n",
    "#EXANG\n",
    "var =\"EXANG\"\n",
    "ind = health_data.loc[:,var].value_counts().index.values\n",
    "count = health_data.loc[:,var].value_counts().values\n",
    "axes[1,1].set_xticks(ind)\n",
    "rect = axes[1,1].bar(ind, count)\n",
    "axes[1,1].set_title(\"Exercise Induced Agina\\n(EXANG)\")\n",
    "axes[1,1].set_ylabel(\"count\")\n",
    "axes[1,1].set_ylim(0, max(count) + 12)\n",
    "axes[1,1].set_xticklabels(ind)\n",
    "axes[1,1].text(ind[0]-rect[0].get_width()/6, count[0] + 2,\"No\")\n",
    "axes[1,1].text(ind[1]-rect[1].get_width()/6, count[1] + 2,\"Yes\")\n",
    "\n",
    "#SLOPE\n",
    "var =\"SLOPE\"\n",
    "ind = health_data.loc[:,var].value_counts().index.values\n",
    "count = health_data.loc[:,var].value_counts().values\n",
    "axes[1,2].set_xticks(ind)\n",
    "rect = axes[1,2].bar(ind, count)\n",
    "axes[1,2].set_title(\"Slope of Peak Exercise\\n ST Segment\\n(SLOPE)\")\n",
    "axes[1,2].set_ylabel(\"count\")\n",
    "axes[1,2].set_ylim(0, max(count) + 10)\n",
    "axes[1,2].set_xticklabels(ind)\n",
    "axes[1,2].text(ind[0]-rect[0].get_width()/5, count[0] + 2,\"Up\")\n",
    "axes[1,2].text(ind[1]-rect[1].get_width()/4, count[1] + 2,\"Flat\")\n",
    "axes[1,2].text(ind[2]-rect[2].get_width()/3, count[2] + 2,\"Down\")\n",
    "\n",
    "#CA\n",
    "var =\"CA\"\n",
    "ind = health_data.loc[:,var].value_counts().index.values\n",
    "count = health_data.loc[:,var].value_counts().values\n",
    "axes[2,0].set_xticks(ind)\n",
    "rect = axes[2,0].bar(ind, count)\n",
    "axes[2,0].set_title(\"Number of Major Vessels\\n Colored by Flourosopy\\n(CA)\")\n",
    "axes[2,0].set_ylabel(\"count\")\n",
    "axes[2,0].set_xticklabels(ind)\n",
    "\n",
    "#THAL\n",
    "#THAL: 3 = normal; 6 = fixed defect; 7 = reversable defect\n",
    "var =\"THAL\"\n",
    "ind = np.arange(4) #health_data.loc[:,var].value_counts().index.values\n",
    "count = health_data.loc[:,var].value_counts().values\n",
    "axes[2,1].set_xticks(ind)\n",
    "rect = axes[2,1].bar(ind, count)\n",
    "axes[2,1].set_title(\"Thallium\\n(THAL)\")\n",
    "axes[2,1].set_ylabel(\"count\")\n",
    "axes[2,1].set_ylim(0, max(count) + 10)\n",
    "axes[2,1].set_xticklabels([3,7,6,-1])\n",
    "axes[2,1].text(ind[0] - rect[0].get_width()/2, count[0] + 2,\"Normal\")\n",
    "axes[2,1].text(ind[1] - rect[1].get_width()/2, count[1] + 2,\"Reversable\")\n",
    "axes[2,1].text(ind[2] - rect[2].get_width()/2, count[2] + 2,\"Fixed\")\n",
    "\n",
    "#HD\n",
    "HD = (health_data.loc[: ,\"NUM\"] >= 1).astype(np.int_)\n",
    "ind = HD.value_counts().index.values\n",
    "count = HD.value_counts().values\n",
    "axes[2,2].set_xticks(ind)\n",
    "rect = axes[2,2].bar(ind, count)\n",
    "axes[2,2].set_title(\"Heart Disease\\n(HD)\")\n",
    "axes[2,2].set_ylabel(\"count\")\n",
    "axes[2,2].set_ylim(0, max(count) + 10)\n",
    "axes[2,2].set_xticklabels(ind)\n",
    "axes[2,2].text(ind[0] - rect[0].get_width()/5, count[0] + 2,\"No\")\n",
    "axes[2,2].text(ind[1] - rect[1].get_width()/5, count[1] + 2,\"Yes\")\n",
    "\n",
    "plt.tight_layout()\n",
    "plt.show()"
   ]
  },
  {
   "cell_type": "markdown",
   "metadata": {},
   "source": [
    "### Correlation Analysis"
   ]
  },
  {
   "cell_type": "code",
   "execution_count": 15,
   "metadata": {
    "collapsed": false
   },
   "outputs": [],
   "source": [
    "HD = (health_data.loc[: ,\"NUM\"] >= 1).astype(np.int_)\n",
    "health_data = health_data.assign(HD = HD)"
   ]
  },
  {
   "cell_type": "code",
   "execution_count": 16,
   "metadata": {
    "collapsed": false
   },
   "outputs": [
    {
     "data": {
      "text/html": [
       "<div>\n",
       "<table border=\"1\" class=\"dataframe\">\n",
       "  <thead>\n",
       "    <tr style=\"text-align: right;\">\n",
       "      <th>HD</th>\n",
       "      <th>0</th>\n",
       "      <th>1</th>\n",
       "      <th>All</th>\n",
       "    </tr>\n",
       "    <tr>\n",
       "      <th>CP</th>\n",
       "      <th></th>\n",
       "      <th></th>\n",
       "      <th></th>\n",
       "    </tr>\n",
       "  </thead>\n",
       "  <tbody>\n",
       "    <tr>\n",
       "      <th>1</th>\n",
       "      <td>16</td>\n",
       "      <td>7</td>\n",
       "      <td>23</td>\n",
       "    </tr>\n",
       "    <tr>\n",
       "      <th>2</th>\n",
       "      <td>41</td>\n",
       "      <td>9</td>\n",
       "      <td>50</td>\n",
       "    </tr>\n",
       "    <tr>\n",
       "      <th>3</th>\n",
       "      <td>68</td>\n",
       "      <td>18</td>\n",
       "      <td>86</td>\n",
       "    </tr>\n",
       "    <tr>\n",
       "      <th>4</th>\n",
       "      <td>39</td>\n",
       "      <td>105</td>\n",
       "      <td>144</td>\n",
       "    </tr>\n",
       "    <tr>\n",
       "      <th>All</th>\n",
       "      <td>164</td>\n",
       "      <td>139</td>\n",
       "      <td>303</td>\n",
       "    </tr>\n",
       "  </tbody>\n",
       "</table>\n",
       "</div>"
      ],
      "text/plain": [
       "HD     0    1  All\n",
       "CP                \n",
       "1     16    7   23\n",
       "2     41    9   50\n",
       "3     68   18   86\n",
       "4     39  105  144\n",
       "All  164  139  303"
      ]
     },
     "execution_count": 16,
     "metadata": {},
     "output_type": "execute_result"
    }
   ],
   "source": [
    "#Q1. How well does chest pain predict heart disease\n",
    "pd.crosstab(health_data.loc[:,\"HD\"],health_data.loc[:,\"CP\"], margins = True).T"
   ]
  },
  {
   "cell_type": "code",
   "execution_count": 17,
   "metadata": {
    "collapsed": false
   },
   "outputs": [
    {
     "data": {
      "image/png": "[encoded data removed]",
      "text/plain": [
       "<matplotlib.figure.Figure at 0x111eb7048>"
      ]
     },
     "metadata": {},
     "output_type": "display_data"
    }
   ],
   "source": [
    "#Q2. How well does flouroscopy test predict heart disease\n",
    "d = pd.crosstab(health_data.loc[:,\"HD\"],health_data.loc[:,\"CA\"]).T.cumsum()\n",
    "fig = plt.figure()\n",
    "ax = fig.add_subplot(111)\n",
    "rect4 = ax.bar([0,1], d.iloc[4,:], color = \"#d7191c\")\n",
    "rect3 = ax.bar([0,1], d.iloc[3,:], color = \"#fdae61\")\n",
    "rect2 = ax.bar([0,1], d.iloc[2,:], color = \"#ffffbf\")\n",
    "rect1 = ax.bar([0,1], d.iloc[1,:], color = \"#abd9e9\")\n",
    "rect0 = ax.bar([0,1], d.iloc[0,:], color = \"#2c7bb6\")\n",
    "ax.legend([rect4,rect3,rect2,rect1,rect0],[3,2,1,0,\"Missing\"], loc='center left', bbox_to_anchor=(1.0, 0.5),\n",
    "         facecolor = \"#dddddd\", frameon = True)\n",
    "ax.set_xticks([0,1])\n",
    "ax.set_xticklabels([\"No\",\"Yes\"])\n",
    "ax.set(xlabel=\"Heart Disease\", ylabel=\"Count\")\n",
    "plt.show()\n"
   ]
  },
  {
   "cell_type": "markdown",
   "metadata": {},
   "source": [
    "#### Q3. How similar are the discrete variables?\n",
    "Use Cramer's V formula to answer this, which is the chi-square statistic normalized to be between 0 and 1\n",
    "\n",
    "$\\chi^2 = N \\cdot \\sum_{i=1}^{r} \\sum_{j=1}^{c} \\frac{(p_{ij} - p_i p_j)^2}{p_i p_j}$\n",
    "\n",
    "$V = \\sqrt{\\frac{\\chi^2}{N \\cdot \\min(r-1,c-1)}}$"
   ]
  },
  {
   "cell_type": "code",
   "execution_count": 18,
   "metadata": {
    "collapsed": false
   },
   "outputs": [
    {
     "data": {
      "image/png": "[encoded data removed]",
      "text/plain": [
       "<matplotlib.figure.Figure at 0x1123071d0>"
      ]
     },
     "metadata": {},
     "output_type": "display_data"
    }
   ],
   "source": [
    "#Q3. How similar are the discrete variables\n",
    "#Use Cramer's V to explore this\n",
    "#For each combination of discrete variables first calculate X^2 statistic and Cramer's V\n",
    "#Store results in an numpy array\n",
    "discrete_vars = health_data.iloc[:, np.array(health_data.dtypes == np.int_) & np.array(health_data.columns != \"NUM\")]\n",
    "num_obs = discrete_vars.shape[0]\n",
    "num_vars = discrete_vars.shape[1]\n",
    "\n",
    "#create dataframe with correlations\n",
    "corr = pd.DataFrame(np.zeros((num_vars,num_vars)), discrete_vars.columns, discrete_vars.columns) \n",
    "corr.values[[np.arange(num_vars)]*2] = 1.0\n",
    "\n",
    "#intialize matrices\n",
    "#chi_stat = np.zeros(np.int_(num_vars * (num_vars - 1) / 2))\n",
    "#chi_stat = np.zeros((num_vars,num_vars))\n",
    "#v_stat = np.zeros(np.int_(num_vars * (num_vars - 1) / 2))\n",
    "#chi_stat = np.zeros((num_vars,num_vars))\n",
    "\n",
    "for i in range(0, num_vars):\n",
    "    for j in range(i + 1, num_vars):\n",
    "        #calc contingency table\n",
    "        var1 = discrete_vars.columns[i]\n",
    "        var2 = discrete_vars.columns[j]\n",
    "        cnts = pd.crosstab(discrete_vars.loc[:,var1], discrete_vars.loc[:,var2], margins = True).values\n",
    "        #calc cramers v\n",
    "        probs = cnts / cnts[cnts.shape[0] - 1, cnts.shape[1] - 1]\n",
    "        probs_joint = probs[0:-1,0:-1]\n",
    "        probs_ind = np.outer(probs[0:-1,-1],probs[-1,0:-1])\n",
    "        chi_stat = num_obs * np.sum((probs_joint - probs_ind)**2 / probs_ind)\n",
    "        v_stat = np.sqrt(chi_stat / (num_obs * min(probs_joint.shape[0]-1,probs_joint.shape[1]-1)))\n",
    "        #add correlation to corr dataframe\n",
    "        corr.loc[var2,var1] = v_stat\n",
    "        corr.loc[var1,var2] = v_stat\n",
    "        \n",
    "#graph results using a correlation matrix plot\n",
    "# Generate a mask for the upper triangle\n",
    "mask = np.zeros_like(corr, dtype=np.bool)\n",
    "mask[np.triu_indices_from(mask)] = True\n",
    "\n",
    "# Set up the matplotlib figure\n",
    "fig, ax = plt.subplots(figsize=(11, 9))\n",
    "\n",
    "# Generate a custom diverging colormap\n",
    "#cmap = sns.diverging_palette(220, 10, as_cmap=True)\n",
    "cmap=plt.get_cmap(\"Blues\")\n",
    "\n",
    "# Draw the heatmap with the mask and correct aspect ratio\n",
    "ax = sns.heatmap(corr, vmin=0, vmax=0.6, mask=mask, cmap=cmap,\n",
    "            square=True, linewidths=.5, cbar_kws={\"shrink\": .5})\n",
    "\n",
    "\n",
    "#ax.set_yticks(ax.get_xticks())\n",
    "labs = corr.columns.get_values().tolist()\n",
    "labs.reverse()\n",
    "ax.set_yticklabels(labs,va=\"center\")\n",
    "plt.show()"
   ]
  },
  {
   "cell_type": "code",
   "execution_count": 19,
   "metadata": {
    "collapsed": false
   },
   "outputs": [
    {
     "data": {
      "text/html": [
       "<div>\n",
       "<table border=\"1\" class=\"dataframe\">\n",
       "  <thead>\n",
       "    <tr style=\"text-align: right;\">\n",
       "      <th></th>\n",
       "      <th>GENDER</th>\n",
       "      <th>CP</th>\n",
       "      <th>FBS</th>\n",
       "      <th>RESTECG</th>\n",
       "      <th>EXANG</th>\n",
       "      <th>SLOPE</th>\n",
       "      <th>CA</th>\n",
       "      <th>THAL</th>\n",
       "      <th>HD</th>\n",
       "    </tr>\n",
       "  </thead>\n",
       "  <tbody>\n",
       "    <tr>\n",
       "      <th>GENDER</th>\n",
       "      <td>1.000000</td>\n",
       "      <td>0.149713</td>\n",
       "      <td>0.047862</td>\n",
       "      <td>0.108775</td>\n",
       "      <td>0.146201</td>\n",
       "      <td>0.048993</td>\n",
       "      <td>0.158741</td>\n",
       "      <td>0.389017</td>\n",
       "      <td>0.276816</td>\n",
       "    </tr>\n",
       "    <tr>\n",
       "      <th>CP</th>\n",
       "      <td>0.149713</td>\n",
       "      <td>1.000000</td>\n",
       "      <td>0.115849</td>\n",
       "      <td>0.126176</td>\n",
       "      <td>0.466745</td>\n",
       "      <td>0.210142</td>\n",
       "      <td>0.187993</td>\n",
       "      <td>0.211384</td>\n",
       "      <td>0.519634</td>\n",
       "    </tr>\n",
       "    <tr>\n",
       "      <th>FBS</th>\n",
       "      <td>0.047862</td>\n",
       "      <td>0.115849</td>\n",
       "      <td>1.000000</td>\n",
       "      <td>0.084737</td>\n",
       "      <td>0.025665</td>\n",
       "      <td>0.105514</td>\n",
       "      <td>0.158885</td>\n",
       "      <td>0.135242</td>\n",
       "      <td>0.025264</td>\n",
       "    </tr>\n",
       "    <tr>\n",
       "      <th>RESTECG</th>\n",
       "      <td>0.108775</td>\n",
       "      <td>0.126176</td>\n",
       "      <td>0.084737</td>\n",
       "      <td>1.000000</td>\n",
       "      <td>0.094973</td>\n",
       "      <td>0.130692</td>\n",
       "      <td>0.122034</td>\n",
       "      <td>0.075021</td>\n",
       "      <td>0.182136</td>\n",
       "    </tr>\n",
       "    <tr>\n",
       "      <th>EXANG</th>\n",
       "      <td>0.146201</td>\n",
       "      <td>0.466745</td>\n",
       "      <td>0.025665</td>\n",
       "      <td>0.094973</td>\n",
       "      <td>1.000000</td>\n",
       "      <td>0.287995</td>\n",
       "      <td>0.205138</td>\n",
       "      <td>0.329812</td>\n",
       "      <td>0.431894</td>\n",
       "    </tr>\n",
       "    <tr>\n",
       "      <th>SLOPE</th>\n",
       "      <td>0.048993</td>\n",
       "      <td>0.210142</td>\n",
       "      <td>0.105514</td>\n",
       "      <td>0.130692</td>\n",
       "      <td>0.287995</td>\n",
       "      <td>1.000000</td>\n",
       "      <td>0.137345</td>\n",
       "      <td>0.241295</td>\n",
       "      <td>0.388721</td>\n",
       "    </tr>\n",
       "    <tr>\n",
       "      <th>CA</th>\n",
       "      <td>0.158741</td>\n",
       "      <td>0.187993</td>\n",
       "      <td>0.158885</td>\n",
       "      <td>0.122034</td>\n",
       "      <td>0.205138</td>\n",
       "      <td>0.137345</td>\n",
       "      <td>1.000000</td>\n",
       "      <td>0.162585</td>\n",
       "      <td>0.489557</td>\n",
       "    </tr>\n",
       "    <tr>\n",
       "      <th>THAL</th>\n",
       "      <td>0.389017</td>\n",
       "      <td>0.211384</td>\n",
       "      <td>0.135242</td>\n",
       "      <td>0.075021</td>\n",
       "      <td>0.329812</td>\n",
       "      <td>0.241295</td>\n",
       "      <td>0.162585</td>\n",
       "      <td>1.000000</td>\n",
       "      <td>0.524312</td>\n",
       "    </tr>\n",
       "    <tr>\n",
       "      <th>HD</th>\n",
       "      <td>0.276816</td>\n",
       "      <td>0.519634</td>\n",
       "      <td>0.025264</td>\n",
       "      <td>0.182136</td>\n",
       "      <td>0.431894</td>\n",
       "      <td>0.388721</td>\n",
       "      <td>0.489557</td>\n",
       "      <td>0.524312</td>\n",
       "      <td>1.000000</td>\n",
       "    </tr>\n",
       "  </tbody>\n",
       "</table>\n",
       "</div>"
      ],
      "text/plain": [
       "           GENDER        CP       FBS   RESTECG     EXANG     SLOPE        CA  \\\n",
       "GENDER   1.000000  0.149713  0.047862  0.108775  0.146201  0.048993  0.158741   \n",
       "CP       0.149713  1.000000  0.115849  0.126176  0.466745  0.210142  0.187993   \n",
       "FBS      0.047862  0.115849  1.000000  0.084737  0.025665  0.105514  0.158885   \n",
       "RESTECG  0.108775  0.126176  0.084737  1.000000  0.094973  0.130692  0.122034   \n",
       "EXANG    0.146201  0.466745  0.025665  0.094973  1.000000  0.287995  0.205138   \n",
       "SLOPE    0.048993  0.210142  0.105514  0.130692  0.287995  1.000000  0.137345   \n",
       "CA       0.158741  0.187993  0.158885  0.122034  0.205138  0.137345  1.000000   \n",
       "THAL     0.389017  0.211384  0.135242  0.075021  0.329812  0.241295  0.162585   \n",
       "HD       0.276816  0.519634  0.025264  0.182136  0.431894  0.388721  0.489557   \n",
       "\n",
       "             THAL        HD  \n",
       "GENDER   0.389017  0.276816  \n",
       "CP       0.211384  0.519634  \n",
       "FBS      0.135242  0.025264  \n",
       "RESTECG  0.075021  0.182136  \n",
       "EXANG    0.329812  0.431894  \n",
       "SLOPE    0.241295  0.388721  \n",
       "CA       0.162585  0.489557  \n",
       "THAL     1.000000  0.524312  \n",
       "HD       0.524312  1.000000  "
      ]
     },
     "execution_count": 19,
     "metadata": {},
     "output_type": "execute_result"
    }
   ],
   "source": [
    "corr"
   ]
  },
  {
   "cell_type": "code",
   "execution_count": null,
   "metadata": {
    "collapsed": true
   },
   "outputs": [],
   "source": [
    "#Q4 How correlated are the continuous variables\n",
    "#Use spearman rank correlation to analyze this.\n",
    "#Spearman's rank correlation measures the strength of the monotonic relationship between two random variables."
   ]
  },
  {
   "cell_type": "markdown",
   "metadata": {
    "collapsed": true
   },
   "source": [
    "The sample Spearman rank correlation is $\\rho = 1 - \\frac{6 \\sum d_i^2}{n(n^2-1)}$ where $d_i$ is the difference in the ranks. In the case of ties, it is common to set the ranks of the tied values equal to their mean."
   ]
  },
  {
   "cell_type": "code",
   "execution_count": 76,
   "metadata": {
    "collapsed": false
   },
   "outputs": [
    {
     "data": {
      "image/png": "[encoded data removed]",
      "text/plain": [
       "<matplotlib.figure.Figure at 0x1132e9278>"
      ]
     },
     "metadata": {},
     "output_type": "display_data"
    }
   ],
   "source": [
    "from scipy import stats\n",
    "cont_vars = health_data.iloc[:, np.array(health_data.dtypes == np.float_)]\n",
    "corr = stats.spearmanr(cont_vars).correlation\n",
    "\n",
    "#graph results using a correlation matrix plot\n",
    "# Generate a mask for the upper triangle\n",
    "mask = np.zeros_like(corr, dtype=np.bool)\n",
    "mask[np.triu_indices_from(mask)] = True\n",
    "\n",
    "# Set up the matplotlib figure\n",
    "fig, ax = plt.subplots(figsize=(11, 9))\n",
    "\n",
    "# Generate a custom diverging colormap\n",
    "cmap = sns.diverging_palette(10, 220, as_cmap=True)\n",
    "#cmap=plt.get_cmap(\"Blues\")\n",
    "\n",
    "# Draw the heatmap with the mask and correct aspect ratio\n",
    "ax = sns.heatmap(corr, vmin=-0.5, vmax=0.5, mask=mask, cmap=cmap,\n",
    "            square=True, linewidths=.5, cbar_kws={\"shrink\": .5})\n",
    "\n",
    "# Change colorbar to display min and max values\n",
    "cbar = ax.collections[0].colorbar\n",
    "cbar.set_ticks([-0.5,-0.25,0,0.25,0.5])\n",
    "\n",
    "#ax.set_yticks(ax.get_xticks())\n",
    "labs = cont_vars.columns.get_values().tolist()\n",
    "ax.set_xticklabels(labs,va=\"center\")\n",
    "labs.reverse()\n",
    "ax.set_yticklabels(labs,va=\"center\")\n",
    "plt.show()"
   ]
  },
  {
   "cell_type": "code",
   "execution_count": 79,
   "metadata": {
    "collapsed": false
   },
   "outputs": [
    {
     "data": {
      "text/plain": [
       "array([[ 1.        ,  0.29218326,  0.19125299, -0.39163317,  0.25989511],\n",
       "       [ 0.29218326,  1.        ,  0.13583666, -0.04040111,  0.15019191],\n",
       "       [ 0.19125299,  0.13583666,  1.        , -0.03830094,  0.03435936],\n",
       "       [-0.39163317, -0.04040111, -0.03830094,  1.        , -0.43151041],\n",
       "       [ 0.25989511,  0.15019191,  0.03435936, -0.43151041,  1.        ]])"
      ]
     },
     "execution_count": 79,
     "metadata": {},
     "output_type": "execute_result"
    }
   ],
   "source": [
    "corr"
   ]
  },
  {
   "cell_type": "code",
   "execution_count": null,
   "metadata": {
    "collapsed": true
   },
   "outputs": [],
   "source": [
    "\n",
    "\n",
    "For integer variables, create frequency tables.\n",
    "\n",
    "For floating point variables, look at max, min, range, histogram, correlation plot "
   ]
  },
  {
   "cell_type": "code",
   "execution_count": null,
   "metadata": {
    "collapsed": false
   },
   "outputs": [],
   "source": [
    "for name in health_data.columns:\n",
    "    if health_data[name].dtype == np.int_:\n",
    "        print(health_data[name].value_counts())"
   ]
  },
  {
   "cell_type": "code",
   "execution_count": null,
   "metadata": {
    "collapsed": false
   },
   "outputs": [],
   "source": [
    "health_data.describe()"
   ]
  },
  {
   "cell_type": "code",
   "execution_count": null,
   "metadata": {
    "collapsed": false
   },
   "outputs": [],
   "source": [
    "#histogram\n",
    "fig, ax = plt.subplots()\n",
    "ax.hist(health_data[\"AGE\"].values)\n",
    "plt.show()"
   ]
  },
  {
   "cell_type": "markdown",
   "metadata": {},
   "source": [
    "## Predictive Models\n",
    "\n",
    "In this section, we build three predictive models from the data to predict heart disease (0,1)"
   ]
  },
  {
   "cell_type": "code",
   "execution_count": null,
   "metadata": {
    "collapsed": true
   },
   "outputs": [],
   "source": []
  },
  {
   "cell_type": "markdown",
   "metadata": {},
   "source": [
    "Choose 2 or 3 floating point variables. Build classification model. Add more columns. Isolate which columns are the best predictors of NUM. Naives Bayes. Classification Tree/Random Forest. Baseline model. 70/30 train/test split. Scikit-learn. http://scikit-learn.org/stable/modules/generated/sklearn.naive_bayes.GaussianNB.html#examples-using-sklearn-naive-bayes-gaussiannb, clf = GaussianNB(), fit, score, X_train, Y_train, X_test, Y_test, clf.fit(X_train, Y_train), clf.predict(X_test), %time / %timeit, Excel file of time(fit, ), time(score), accuracy, F-score"
   ]
  },
  {
   "cell_type": "code",
   "execution_count": null,
   "metadata": {
    "collapsed": false
   },
   "outputs": [],
   "source": [
    "#### Modeling\n",
    "\n",
    "# Feature Engineering\n",
    "# Create HD, binary version of NUM. Bin AGE and TRESTBPS into five bins. Create binary versions of variables\n",
    "HD = (health_data.loc[: ,\"NUM\"] >= 1).astype(np.int_) #0 = no heart disease; 1 = heart disease\n",
    "health_data = health_data.assign(HD = HD)\n",
    "\n",
    "age_bins = health_data.loc[:,\"AGE\"].quantile([0.0, 0.2, 0.4, 0.6, 0.8, 1.0])\n",
    "age_bins.iloc[3] = 57.9 # Results in a more even distribution of observations into the bins\n",
    "AGEBIN = pd.cut(health_data.loc[:,\"AGE\"], age_bins, labels = [1,2,3,4,5], include_lowest = True)\n",
    "health_data = health_data.assign(AGEBIN = np.int_(AGEBIN))\n",
    "\n",
    "trestbps_bins = health_data.loc[:,\"TRESTBPS\"].quantile([0.0, 0.19, 0.39, 0.59, 0.79, 1.0], interpolation = \"lower\")\n",
    "TRESTBPSBIN = pd.cut(health_data.loc[:,\"TRESTBPS\"], trestbps_bins, labels = [1,2,3,4,5], include_lowest = True)\n",
    "health_data = health_data.assign(TRESTBPSBIN = np.int_(TRESTBPSBIN))\n",
    "\n",
    "health_data_bin = pd.get_dummies(health_data, columns = [\"GENDER\", \"AGEBIN\", \"TRESTBPSBIN\", \"CP\"])\n",
    "\n",
    "health_data.head()"
   ]
  },
  {
   "cell_type": "code",
   "execution_count": null,
   "metadata": {
    "collapsed": true
   },
   "outputs": [],
   "source": [
    "# 70/30 train/test split\n",
    "# Stratified random sample by heart disease class, equal proportion\n",
    "health_data_0 = health_data_bin.loc[health_data.loc[:,\"HD\"] == 0,:] #patients without heart disease\n",
    "health_data_1 = health_data_bin.loc[health_data.loc[:,\"HD\"] == 1,:] #patients with heart disease\n",
    "r_seed = 7\n",
    "train_data = health_data_0.sample(frac = 0.7, random_state = r_seed)\n",
    "train_data = train_data.append(health_data_1.sample(frac = 0.7, random_state = r_seed))\n",
    "test_index = health_data_bin.index.difference(train_data.index)\n",
    "test_data = health_data_bin.iloc[test_index]"
   ]
  },
  {
   "cell_type": "code",
   "execution_count": null,
   "metadata": {
    "collapsed": false
   },
   "outputs": [],
   "source": [
    "print(train_data.loc[:,\"HD\"].value_counts())\n",
    "print(test_data.loc[:,\"HD\"].value_counts())"
   ]
  },
  {
   "cell_type": "code",
   "execution_count": null,
   "metadata": {
    "collapsed": false
   },
   "outputs": [],
   "source": [
    "## Baseline Binary Classifier Model - Navies Bayes Model\n",
    "# Predictor Vars = AGE, GENDER, CP, TRESTBPS - A doctor can collect these variables during an office vist\n",
    "# Navie Bayes Model\n",
    "import sklearn.naive_bayes as nb\n",
    "X = train_data.filter(regex = r\"GENDER|CP|AGEBIN|TRESTBPSBIN\")\n",
    "Y = train_data.loc[:,\"HD\"]\n",
    "clf_nb = nb.BernoulliNB()\n",
    "clf_nb.fit(X, Y)"
   ]
  },
  {
   "cell_type": "code",
   "execution_count": null,
   "metadata": {
    "collapsed": false
   },
   "outputs": [],
   "source": [
    "#Record probability that HD = 1 for each training observation and classifier \n",
    "train_classes_out = pd.DataFrame(columns = [\"THRESHOLD\",\"ID\",\"ACTUAL\",\n",
    "                                            \"NBPROB\",\"NBCLASS\",\n",
    "                                            \"LOGITPROB\",\"LOGITCLASS\",\n",
    "                                            \"TREEPROB\",\"TREECLASS\",\n",
    "                                            \"FORESTPROB\",\"FORESTCLASS\"])\n",
    "thresholds = np.arange(101)/100\n",
    "train_classes_out.loc[:,\"THRESHOLD\"] = np.repeat(thresholds, train_data.shape[0])\n",
    "train_classes_out.loc[:,\"ID\"] = np.tile(train_data.index.values, thresholds.shape[0])\n",
    "train_classes_out.loc[:,\"ACTUAL\"] = np.tile(Y.values, thresholds.shape[0])\n",
    "\n",
    "#Naive Bayes\n",
    "train_classes_out.loc[:,\"NBPROB\"] = np.tile(clf_nb.predict_proba(X)[:,1], thresholds.shape[0])\n",
    "train_classes_out.loc[:,\"NBCLASS\"] = (train_classes_out.loc[:, \"NBPROB\"] >= train_classes_out.loc[:, \"THRESHOLD\"]).astype(np.int_)"
   ]
  },
  {
   "cell_type": "code",
   "execution_count": null,
   "metadata": {
    "collapsed": false
   },
   "outputs": [],
   "source": [
    "train_classes_out.iloc[7689:7760,:]"
   ]
  },
  {
   "cell_type": "code",
   "execution_count": null,
   "metadata": {
    "collapsed": false
   },
   "outputs": [],
   "source": [
    "#### Output statistics and graphs\n",
    "#Save number of true positives, false negatives, false positives and true negatives\n",
    "#Accuracy, Precision, Recall, F-score, true positive rate, false positive rate, mutual information\n",
    "#Create ROC curve\n",
    "\n",
    "from sklearn import metrics\n",
    "\n",
    "#Naive Bayes\n",
    "model = \"NBCLASS\"\n",
    "nb_stats = pd.DataFrame(columns = [\"THRESHOLD\",\"ACCURACY\",\"PRECISION\",\"RECALL\",\"FSCORE\",\"TPRATE\",\"FPRATE\",\"MI\"], dtype = np.float_)\n",
    "for threshold in thresholds:\n",
    "    rows = (train_classes_out.loc[:,\"THRESHOLD\"] == threshold)\n",
    "    act = train_classes_out.loc[rows,\"ACTUAL\"]\n",
    "    pred = train_classes_out.loc[rows,model]\n",
    "    tot = act.shape[0]\n",
    "    tp = sum((act == 1) & (pred == 1))\n",
    "    fp = sum((act == 0) & (pred == 1))\n",
    "    fn = sum((act == 1) & (pred == 0))\n",
    "    tn = sum((act == 0) & (pred == 0))\n",
    "    acc = (tp + tn)/tot\n",
    "    if tp + fp == 0:\n",
    "        pre = np.nan\n",
    "    else:\n",
    "        pre = tp/(tp + fp)\n",
    "    \n",
    "    tpr = rec = tp/(tp + fn)\n",
    "    fsc = (2 * pre * rec)/(pre + rec)\n",
    "    fpr = fp/(fp + tn)\n",
    "    mi = metrics.mutual_info_score(act, pred)\n",
    "    \n",
    "    nb_stats = nb_stats.append({\"THRESHOLD\": threshold,\n",
    "                     \"ACCURACY\": acc,\n",
    "                     \"PRECISION\": pre,\n",
    "                     \"RECALL\": rec,\n",
    "                     \"FSCORE\": fsc,\n",
    "                     \"TPRATE\": tpr,\n",
    "                     \"FPRATE\": fpr,\n",
    "                     \"MI\": mi}, ignore_index = True)  "
   ]
  },
  {
   "cell_type": "code",
   "execution_count": null,
   "metadata": {
    "collapsed": false
   },
   "outputs": [],
   "source": [
    "nb_stats.iloc[50,:]"
   ]
  },
  {
   "cell_type": "code",
   "execution_count": null,
   "metadata": {
    "collapsed": false
   },
   "outputs": [],
   "source": [
    "# Test set\n",
    "X = test_data.filter(regex = r\"GENDER|CP|AGEBIN|TRESTBPSBIN\")\n",
    "Y = test_data.loc[:,\"HD\"]\n",
    "clf_nb.predict(X)\n",
    "\n",
    "import timeit\n",
    "\n",
    "start = timeit.timeit()\n",
    "for i in range(10):\n",
    "    print(\"hello\")\n",
    "end = timeit.timeit()\n",
    "print(end - start)"
   ]
  },
  {
   "cell_type": "code",
   "execution_count": null,
   "metadata": {
    "collapsed": true
   },
   "outputs": [],
   "source": [
    "test_data.shape"
   ]
  },
  {
   "cell_type": "code",
   "execution_count": null,
   "metadata": {
    "collapsed": false
   },
   "outputs": [],
   "source": [
    "p00 = 85/212; p01 = 21/212; p10 = 30/212; p11 = 76/212;\n",
    "p_0 = 115/212; p_1 = 97/212; p0_ = 106/212; p1_ = 106/212;\n",
    "p00 * np.log(p00/(p_0 * p0_)) + p01 * np.log(p01/(p0_ * p_1)) + p10 * np.log(p10/(p_0 * p1_)) + p11 * np.log(p11/(p_1 * p1_))"
   ]
  },
  {
   "cell_type": "code",
   "execution_count": null,
   "metadata": {
    "collapsed": false
   },
   "outputs": [],
   "source": [
    "pd.crosstab(pred,act, margins = True)"
   ]
  },
  {
   "cell_type": "code",
   "execution_count": null,
   "metadata": {
    "collapsed": false
   },
   "outputs": [],
   "source": [
    "#Plot histograms of AGE and TRESTBPS\n",
    "fig = plt.figure()\n",
    "ax1 = fig.add_subplot(1,2,1)\n",
    "ax2 = fig.add_subplot(1,2,2)"
   ]
  },
  {
   "cell_type": "code",
   "execution_count": null,
   "metadata": {
    "collapsed": false
   },
   "outputs": [],
   "source": [
    "ax1.hist(X_cont.AGE.values)\n",
    "ax2.hist(X_cont.TRESTBPS.values, bins = 10)\n",
    "plt.show()"
   ]
  },
  {
   "cell_type": "code",
   "execution_count": null,
   "metadata": {
    "collapsed": false
   },
   "outputs": [],
   "source": [
    "import sklearn.naive_bayes as nb\n",
    "clf_cont = nb.GaussianNB()\n",
    "clf_disc = nb.MultinomialNB()\n",
    "clf_cont.fit(X_cont, Y)\n",
    "clf_disc.fit(X_disc, Y)"
   ]
  },
  {
   "cell_type": "code",
   "execution_count": null,
   "metadata": {
    "collapsed": false
   },
   "outputs": [],
   "source": [
    "#Class probabilities and predictions\n",
    "clf_disc.predict(X_disc)"
   ]
  },
  {
   "cell_type": "code",
   "execution_count": null,
   "metadata": {
    "collapsed": false
   },
   "outputs": [],
   "source": [
    "clf_disc.get_params()"
   ]
  },
  {
   "cell_type": "code",
   "execution_count": null,
   "metadata": {
    "collapsed": false
   },
   "outputs": [],
   "source": [
    "np.exp(clf.class_log_prior_)"
   ]
  },
  {
   "cell_type": "code",
   "execution_count": null,
   "metadata": {
    "collapsed": false
   },
   "outputs": [],
   "source": [
    "X = np.int_([[0,1],[1,0],[0,1],[0,0],[1,0],[1,1],[0,1],[0,1]])\n",
    "Y = np.array([0, 0, 1, 1, 1, 1,1,1])\n",
    "from sklearn.naive_bayes import BernoulliNB\n",
    "clf = BernoulliNB()\n",
    "clf.fit(X, Y)\n",
    "print(clf.predict([[1, 1]]))\n",
    "print(np.exp(clf.class_log_prior_))\n",
    "print(clf.class_count_)\n",
    "print(clf.feature_count_)\n",
    "print(clf.alpha)\n",
    "print(np.exp(clf.feature_log_prob_))"
   ]
  },
  {
   "cell_type": "code",
   "execution_count": null,
   "metadata": {
    "collapsed": false
   },
   "outputs": [],
   "source": [
    "train_data.iloc[0:4,]"
   ]
  },
  {
   "cell_type": "code",
   "execution_count": null,
   "metadata": {
    "collapsed": false
   },
   "outputs": [],
   "source": [
    "a = pd.get_dummies(train_data.iloc[0:4,], columns = [\"AGE\"])\n",
    "a"
   ]
  },
  {
   "cell_type": "code",
   "execution_count": null,
   "metadata": {
    "collapsed": true
   },
   "outputs": [],
   "source": [
    "X = np.random.randint(5, size=(6, 100))\n",
    "y = np.array([1, 2, 3, 4, 5, 6])\n",
    ">>> from sklearn.naive_bayes import MultinomialNB\n",
    ">>> clf = MultinomialNB()\n",
    ">>> clf.fit(X, y)\n",
    "MultinomialNB(alpha=1.0, class_prior=None, fit_prior=True)\n",
    ">>> print(clf.predict(X[2:3]))"
   ]
  },
  {
   "cell_type": "code",
   "execution_count": null,
   "metadata": {
    "collapsed": true
   },
   "outputs": [],
   "source": []
  },
  {
   "cell_type": "code",
   "execution_count": null,
   "metadata": {
    "collapsed": true
   },
   "outputs": [],
   "source": []
  },
  {
   "cell_type": "code",
   "execution_count": null,
   "metadata": {
    "collapsed": true
   },
   "outputs": [],
   "source": []
  },
  {
   "cell_type": "code",
   "execution_count": null,
   "metadata": {
    "collapsed": true
   },
   "outputs": [],
   "source": []
  },
  {
   "cell_type": "code",
   "execution_count": null,
   "metadata": {
    "collapsed": true
   },
   "outputs": [],
   "source": [
    "#Report\n",
    "#1. What is the most important metric? accuracy, precision or recall. tradeoff\n",
    "#2. For each model, output accuracy, precision and recall, time to train, time to split\n",
    "#3. I did this and then went to this, what is the story? Baseline model = simplest and cheapest\n",
    "# most advance model = random forest - complex and all the variables and most expensive, models in between\n",
    "#4. 3 to 5 lines about each model work.\n",
    "#5. roc curves\n",
    "#6. exploratory analysis - histogram of age and gender, cost of these tests and individual acc,pre,rec"
   ]
  }
 ],
 "metadata": {
  "kernelspec": {
   "display_name": "Python 3",
   "language": "python",
   "name": "python3"
  },
  "language_info": {
   "codemirror_mode": {
    "name": "ipython",
    "version": 3
   },
   "file_extension": ".py",
   "mimetype": "text/x-python",
   "name": "python",
   "nbconvert_exporter": "python",
   "pygments_lexer": "ipython3",
   "version": "3.6.0"
  }
 },
 "nbformat": 4,
 "nbformat_minor": 2
}
